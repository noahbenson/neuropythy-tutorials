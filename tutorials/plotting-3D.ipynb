{
 "cells": [
  {
   "cell_type": "markdown",
   "metadata": {},
   "source": [
    "# 3D Plotting"
   ]
  },
  {
   "cell_type": "markdown",
   "metadata": {},
   "source": [
    "This tutorial is an introduction to using Neuropythy to plot the 3D cortices of either FreeSurfer or HCP subjects. \n",
    "\n",
    "**Author**: &nbsp;&nbsp; [Noah C. Benson](mailto:nben@uw.edu)  \n",
    "**Date**: &nbsp;&nbsp;&nbsp;&nbsp;&nbsp;&nbsp; June 04, 2022  \n",
    "**Link**: &nbsp;&nbsp;&nbsp;&nbsp;&nbsp;&nbsp;&nbsp; [noahbenson/neuropythy-tutorials](https://github.com/noahbenson/neuropythy-tutorials)"
   ]
  },
  {
   "cell_type": "markdown",
   "metadata": {},
   "source": [
    "## Setup"
   ]
  },
  {
   "cell_type": "markdown",
   "metadata": {},
   "source": [
    "To start with, we need to import various libraries. These include, first, neuropythy itself, and, second, the ipyvolume library for 3D plotting. We also import various utility libraries like os and sys."
   ]
  },
  {
   "cell_type": "code",
   "execution_count": 1,
   "metadata": {},
   "outputs": [],
   "source": [
    "# Import some standard/utility libraries:\n",
    "import os, sys, six # six provides python 2/3 compatibility\n",
    "\n",
    "# Import our numerical/scientific libraries, scipy and numpy:\n",
    "import numpy as np\n",
    "import scipy as sp\n",
    "\n",
    "# The neuropythy library is a swiss-army-knife for handling MRI data, especially\n",
    "# anatomical/structural data such as that produced by FreeSurfer or the HCP.\n",
    "# https://github.com/noahbenson/neuropythy\n",
    "import neuropythy as ny\n",
    "\n",
    "# We also import ipyvolume, the 3D graphics library used by neurropythy, for 3D\n",
    "# surface rendering (optional).\n",
    "import ipyvolume as ipv"
   ]
  },
  {
   "cell_type": "markdown",
   "metadata": {},
   "source": [
    "## Choose a Subject"
   ]
  },
  {
   "cell_type": "markdown",
   "metadata": {},
   "source": [
    "We need a subject whose ROIs we are going to draw. This notebook uses the subject 'S1202' from from [Benson and Winawer (2018)](https://doi.org/10.7554/eLife.40224), which neuropythy will automatically download for you. The first time you download this, it will likely take some time as neuropythy needs to download and unzip most of the dataset. This will be cached if possible: If you are using the Docker container to run this tutorial, the cache will only be cleared whenever the docker-image is rebuilt; otherwise, if you don't have a path configured for the neuropythy config item `'data_cache_root'`, these data will be downloaded fresh each time you run the notebook (and will be auto-deleted when your python kernel exits). To check this, you can look at `ny.config['data_cache_root']`. This can be set to a valid directory to store various neuropythy auto-downloaded data. The file `~/.npythyrc` containing a dictionary in JSON format may be given the key `\"data_cache_root\"` to ensure that this configuration is preserved across sessions. The data downloaded by neuropythy to this directory may be deleted without consequence (aside from needing to re-download it again later)."
   ]
  },
  {
   "cell_type": "code",
   "execution_count": 2,
   "metadata": {},
   "outputs": [],
   "source": [
    "# Note: This may take awhile to download if you have not downloaded these\n",
    "# data previously (~9 GB once extracted).\n",
    "sub = ny.data['benson_winawer_2018'].subjects['S1202']"
   ]
  },
  {
   "cell_type": "markdown",
   "metadata": {},
   "source": [
    "Alternately, if you want to use a subject of your own, you can provide neuropythy with the subject's path, as in the code-block below.\n",
    "\n",
    "```python\n",
    "sub_path = '/data/cache/benson_winawer_2018/freesurfer_subjects/S1202'\n",
    "sub = ny.freesurfer_subject(sub_path)\n",
    "```"
   ]
  },
  {
   "cell_type": "markdown",
   "metadata": {},
   "source": [
    "## Plotting a Single Hemisphere"
   ]
  },
  {
   "cell_type": "markdown",
   "metadata": {},
   "source": [
    "### Basic Plotting"
   ]
  },
  {
   "cell_type": "markdown",
   "metadata": {},
   "source": [
    "If we want to see a property visualized on the cortical surface, we can plot the cortical surface using that property as the color."
   ]
  },
  {
   "cell_type": "code",
   "execution_count": 5,
   "metadata": {},
   "outputs": [
    {
     "data": {
      "application/vnd.jupyter.widget-view+json": {
       "model_id": "432fac6cfbac45139389e7a4c5981247",
       "version_major": 2,
       "version_minor": 0
      },
      "text/plain": [
       "Figure(camera=PerspectiveCamera(fov=0.644570721372708, position=(0.0, -100.0, 0.0), projectionMatrix=(1.0, 0.0…"
      ]
     },
     "metadata": {},
     "output_type": "display_data"
    }
   ],
   "source": [
    "# We'll plot the thickness property, with a minimum value\n",
    "# (for the colormap) of 2 mm and a max of 6 mm.\n",
    "ny.cortex_plot(sub.lh, surface='inflated', color='thickness',\n",
    "               cmap='hot', vmin=2, vmax=6)"
   ]
  },
  {
   "cell_type": "markdown",
   "metadata": {},
   "source": [
    "Notice that in the above code cell, we passed the string `'thickness'` to the `color` option. This can be a property name for a property of the first argument (the cortex or surface mesh), or any valid property itself. For example, we could pass the thickness property directly."
   ]
  },
  {
   "cell_type": "code",
   "execution_count": 6,
   "metadata": {},
   "outputs": [
    {
     "data": {
      "application/vnd.jupyter.widget-view+json": {
       "model_id": "2357d1c1444f46b2b26f3c7ae6d1b209",
       "version_major": 2,
       "version_minor": 0
      },
      "text/plain": [
       "Figure(camera=PerspectiveCamera(fov=0.644570721372708, position=(0.0, -100.0, 0.0), projectionMatrix=(1.0, 0.0…"
      ]
     },
     "metadata": {},
     "output_type": "display_data"
    }
   ],
   "source": [
    "thickness = sub.lh.prop('thickness')\n",
    "ny.cortex_plot(sub.lh, surface='inflated', color=thickness,\n",
    "               cmap='hot', vmin=2, vmax=6)"
   ]
  },
  {
   "cell_type": "markdown",
   "metadata": {},
   "source": [
    "Similarly, the first argument of the `cortex_plot` function is flexible. It may be either a `Cortex` object such as `sub.lh` or it can be a `Mesh` object such as `sub.lh.white_surface`. If it is a `Cortex` object, then the `surface` option should be given the name of a surface of the `Cortex`."
   ]
  },
  {
   "cell_type": "code",
   "execution_count": 34,
   "metadata": {},
   "outputs": [
    {
     "data": {
      "application/vnd.jupyter.widget-view+json": {
       "model_id": "3ed374c46a3247ceb8d571d84443b0fe",
       "version_major": 2,
       "version_minor": 0
      },
      "text/plain": [
       "Figure(camera=PerspectiveCamera(fov=0.644570721372708, position=(0.0, -100.0, 0.0), projectionMatrix=(1.0, 0.0…"
      ]
     },
     "metadata": {},
     "output_type": "display_data"
    }
   ],
   "source": [
    "# Here, we pass the inflated surface directly to the cortex_plot\n",
    "# function instead of providing the surface option.\n",
    "ny.cortex_plot(sub.lh.surface('inflated'), color='thickness',\n",
    "               cmap='hot', vmin=2, vmax=6)"
   ]
  },
  {
   "cell_type": "markdown",
   "metadata": {},
   "source": [
    "### Masks and Underlays"
   ]
  },
  {
   "cell_type": "markdown",
   "metadata": {},
   "source": [
    "The `cortex_plot` function accepts an option `mask` that allows one to color the cortex only at certain places. A very basic usage of the mask is to plot only the vertices that are `True` in a particular property."
   ]
  },
  {
   "cell_type": "code",
   "execution_count": 35,
   "metadata": {},
   "outputs": [
    {
     "data": {
      "application/vnd.jupyter.widget-view+json": {
       "model_id": "ed16849108804aeb9e8e05336ced6a60",
       "version_major": 2,
       "version_minor": 0
      },
      "text/plain": [
       "Figure(camera=PerspectiveCamera(fov=0.644570721372708, position=(0.0, -100.0, 0.0), projectionMatrix=(1.0, 0.0…"
      ]
     },
     "metadata": {},
     "output_type": "display_data"
    }
   ],
   "source": [
    "# Plot only on the cortical surface (i.e., exclude the Corpus callosum).\n",
    "# The 'cortex_label' property stores True values for cortex and False\n",
    "# values for the medial wall.\n",
    "ny.cortex_plot(sub.lh, surface='midgray', color='thickness',\n",
    "               cmap='hot', vmin=2, vmax=6,\n",
    "               mask=sub.lh.prop('cortex_label'))"
   ]
  },
  {
   "cell_type": "markdown",
   "metadata": {},
   "source": [
    "The mask can be a property vector itself, but alternately, you can provide the name of a property that is already part of the cortex or surface object."
   ]
  },
  {
   "cell_type": "code",
   "execution_count": 37,
   "metadata": {},
   "outputs": [
    {
     "data": {
      "application/vnd.jupyter.widget-view+json": {
       "model_id": "d2337f59e1984e089973e2b47067f860",
       "version_major": 2,
       "version_minor": 0
      },
      "text/plain": [
       "Figure(camera=PerspectiveCamera(fov=0.644570721372708, position=(0.0, -100.0, 0.0), projectionMatrix=(1.0, 0.0…"
      ]
     },
     "metadata": {},
     "output_type": "display_data"
    }
   ],
   "source": [
    "ny.cortex_plot(sub.lh, surface='midgray', color='thickness',\n",
    "               cmap='hot', vmin=2, vmax=6,\n",
    "               mask='cortex_label')"
   ]
  },
  {
   "cell_type": "markdown",
   "metadata": {},
   "source": [
    "Mask also accepts a few alternative forms; these are described in the `ny.to_mask` function's documentation."
   ]
  },
  {
   "cell_type": "code",
   "execution_count": 18,
   "metadata": {},
   "outputs": [
    {
     "name": "stdout",
     "output_type": "stream",
     "text": [
      "Help on function to_mask in module neuropythy.geometry.mesh:\n",
      "\n",
      "to_mask(obj, m=None, indices=None)\n",
      "    to_mask(obj, m) yields the set of indices from the given vertex-set or itable object obj that\n",
      "      correspond to the given mask m.\n",
      "    to_mask((obj, m)) is equivalent to to_mask(obj, m).\n",
      "    \n",
      "    The mask m may take any of the following forms:\n",
      "       * a list of vertex indices\n",
      "       * a boolean array (one value per vertex)\n",
      "       * a property name, which can be cast to a boolean array\n",
      "       * a tuple (property, value) where property is a list of values, one per vertex, and value\n",
      "         is the value that must match in order for a vertex to be included (this is basically\n",
      "         equivalent to the mask (property == value); note that property may also be a property\n",
      "         name\n",
      "       * a tuple (property, min, max), which specifies that the property must be between min and\n",
      "         max for a vertex to be included (min < p <= max)\n",
      "       * a tuple (property, (val1, val2...)), which specifies that the property must be any of\n",
      "         the values in (val1, val2...) for a vertex to be included\n",
      "       * None, indicating that all labels should be returned\n",
      "       * a dict/mapping with one item whose key is either 'and', or 'or' and whose value is a list,\n",
      "         each of whose elements matches one of the above.\n",
      "    \n",
      "    Note that the optional argument indices (default: False) may be set to true to yield the\n",
      "    vertex indices instead of the vertex labels. If obj is not a VertexSet object, then this\n",
      "    option is ignored.\n",
      "\n"
     ]
    }
   ],
   "source": [
    "help(ny.to_mask)"
   ]
  },
  {
   "cell_type": "markdown",
   "metadata": {},
   "source": [
    "Here's an example where we only plot the thickness values that are greater than 0 by using the `(property, min, max)` form for the mask."
   ]
  },
  {
   "cell_type": "code",
   "execution_count": 36,
   "metadata": {},
   "outputs": [
    {
     "data": {
      "application/vnd.jupyter.widget-view+json": {
       "model_id": "b50c0c50c38c4854a9974a1254481c8d",
       "version_major": 2,
       "version_minor": 0
      },
      "text/plain": [
       "Figure(camera=PerspectiveCamera(fov=0.644570721372708, position=(0.0, -100.0, 0.0), projectionMatrix=(1.0, 0.0…"
      ]
     },
     "metadata": {},
     "output_type": "display_data"
    }
   ],
   "source": [
    "ny.cortex_plot(sub.lh, surface='inflated', color='thickness',\n",
    "               cmap='hot', vmin=2, vmax=6,\n",
    "               mask=('thickness', 0, np.inf))"
   ]
  },
  {
   "cell_type": "markdown",
   "metadata": {},
   "source": [
    "Suppose you want to color only certain points on cortex, but you don't want the underly to be colored by curvature. The solution to this problem is to use the `underlay` option, which allows one to specify a color for the underlay."
   ]
  },
  {
   "cell_type": "code",
   "execution_count": 25,
   "metadata": {},
   "outputs": [
    {
     "data": {
      "application/vnd.jupyter.widget-view+json": {
       "model_id": "bbcb758b941748b48b01395a4dbbed08",
       "version_major": 2,
       "version_minor": 0
      },
      "text/plain": [
       "Figure(camera=PerspectiveCamera(fov=0.644570721372708, position=(0.0, -100.0, 0.0), projectionMatrix=(1.0, 0.0…"
      ]
     },
     "metadata": {},
     "output_type": "display_data"
    }
   ],
   "source": [
    "ny.cortex_plot(sub.lh, surface='inflated', color='thickness',\n",
    "               cmap='hot', vmin=2, vmax=6,\n",
    "               mask=('thickness', 0, np.inf),\n",
    "               underlay='white')"
   ]
  },
  {
   "cell_type": "markdown",
   "metadata": {},
   "source": [
    "## Plotting Multiple Hemispheres"
   ]
  },
  {
   "cell_type": "markdown",
   "metadata": {},
   "source": [
    "To plot multiple hemispheres simultaneously, we can use a number of techniques. The first, is to treat the `ipyvolume` figure a bit like a `matplotlib` axes object. Essentially, we can pass the figure object to the `cortex_plot` function in order to plot two hemispheres together."
   ]
  },
  {
   "cell_type": "code",
   "execution_count": 26,
   "metadata": {
    "scrolled": false
   },
   "outputs": [
    {
     "data": {
      "application/vnd.jupyter.widget-view+json": {
       "model_id": "85b9a503f8c84421be0d4ba6272957a3",
       "version_major": 2,
       "version_minor": 0
      },
      "text/plain": [
       "VBox(children=(Figure(camera=PerspectiveCamera(fov=0.644570721372708, position=(0.0, -100.0, 0.0), projectionM…"
      ]
     },
     "metadata": {},
     "output_type": "display_data"
    }
   ],
   "source": [
    "fig = ipv.figure()\n",
    "\n",
    "ny.cortex_plot(sub.lh, surface='pial', figure=fig)\n",
    "ny.cortex_plot(sub.rh, surface='pial', figure=fig)\n",
    "\n",
    "ipv.show()"
   ]
  },
  {
   "cell_type": "markdown",
   "metadata": {},
   "source": [
    "Alternately, we can just pass both hemispheres to the `cortex_plot` function. This will work for simple plots, but for more complex plots--in which the cortical surfaces aren't colored the same way, for example--you'll typically want to use the `figure` method (above) when you are plotting different things on each hemisphere. "
   ]
  },
  {
   "cell_type": "code",
   "execution_count": 10,
   "metadata": {},
   "outputs": [
    {
     "data": {
      "application/vnd.jupyter.widget-view+json": {
       "model_id": "4c29b7944cdd42e3a24e8df6832098a5",
       "version_major": 2,
       "version_minor": 0
      },
      "text/plain": [
       "Figure(camera=PerspectiveCamera(fov=0.644570721372708, position=(0.0, -100.0, 0.0), projectionMatrix=(1.0, 0.0…"
      ]
     },
     "metadata": {},
     "output_type": "display_data"
    }
   ],
   "source": [
    "ny.cortex_plot((sub.lh, sub.rh), surface='midgray')"
   ]
  },
  {
   "cell_type": "markdown",
   "metadata": {},
   "source": [
    "### Transparency"
   ]
  },
  {
   "cell_type": "markdown",
   "metadata": {},
   "source": [
    "Although it is only sometimes useful, neuropythy supports transparency for both the mesh and the color. The `alpha` parameter allows one to modify the transparency of the vertex colors."
   ]
  },
  {
   "cell_type": "code",
   "execution_count": 30,
   "metadata": {},
   "outputs": [
    {
     "data": {
      "application/vnd.jupyter.widget-view+json": {
       "model_id": "39663c5b06834ab3a2355f867fe29c84",
       "version_major": 2,
       "version_minor": 0
      },
      "text/plain": [
       "Figure(camera=PerspectiveCamera(fov=0.644570721372708, position=(0.0, -100.0, 0.0), projectionMatrix=(1.0, 0.0…"
      ]
     },
     "metadata": {},
     "output_type": "display_data"
    }
   ],
   "source": [
    "ny.cortex_plot(sub.lh, surface='midgray', color='thickness',\n",
    "               cmap='hot', vmin=2, vmax=6,\n",
    "               mask=sub.lh.prop('cortex_label'),\n",
    "               alpha=1 - sub.lh.prop('V2_weight'))"
   ]
  },
  {
   "cell_type": "markdown",
   "metadata": {},
   "source": [
    "Alternately, we can make the mesh transparent. This might be useful if we want to show both the white and the pial matter, for example."
   ]
  },
  {
   "cell_type": "code",
   "execution_count": 33,
   "metadata": {},
   "outputs": [
    {
     "data": {
      "application/vnd.jupyter.widget-view+json": {
       "model_id": "92dc785c1f834ef0b4610517f219f1d7",
       "version_major": 2,
       "version_minor": 0
      },
      "text/plain": [
       "VBox(children=(Figure(camera=PerspectiveCamera(fov=0.644570721372708, position=(0.0, -100.0, 0.0), projectionM…"
      ]
     },
     "metadata": {},
     "output_type": "display_data"
    }
   ],
   "source": [
    "fig = ipv.figure()\n",
    "\n",
    "ny.cortex_plot(sub.lh.white_surface, figure=fig)\n",
    "ny.cortex_plot(sub.lh.pial_surface, figure=fig,\n",
    "               mesh_alpha=0.5, underlay='gray')\n",
    "\n",
    "ipv.show()"
   ]
  },
  {
   "cell_type": "markdown",
   "metadata": {},
   "source": [
    "## More Information"
   ]
  },
  {
   "cell_type": "markdown",
   "metadata": {},
   "source": [
    "More help on the plotting functions can be found in the documentation for the `cortex_plot` function:"
   ]
  },
  {
   "cell_type": "code",
   "execution_count": 8,
   "metadata": {},
   "outputs": [
    {
     "name": "stdout",
     "output_type": "stream",
     "text": [
      "Help on function cortex_plot in module neuropythy.graphics.core:\n",
      "\n",
      "cortex_plot(mesh, *args, **opts)\n",
      "    cortex_plot(mesh) calls either cortex_plot_2D or cortex_plot_3D depending on the dimensionality\n",
      "      of the given mesh, and yields the resulting graphics object. All optional arguments supported\n",
      "      by each is supported by cortex plot.\n",
      "    \n",
      "    The following options are accepted:\n",
      "      * color (default: None) specifies the color to plot for each vertex; this argument may take a\n",
      "        number of forms:\n",
      "          * None, do not plot a color over the underlay (the default)\n",
      "          * a matrix of RGB or RGBA values, one per vertex\n",
      "          * a property vector or a string naming a property, in which case the cmap, vmin, and vmax\n",
      "            arguments are used to generate colors\n",
      "          * a function that, when passed a single argument, a dict of the properties of a single\n",
      "            vertex, yields an RGB or RGBA list for that vertex.\n",
      "      * cmap (default: 'eccenflat') specifies the colormap to use in plotting if the color\n",
      "        argument provided is a property.\n",
      "      * vmin (default: None) specifies the minimum value for scaling the property when one is passed\n",
      "        as the color option. None means to use the min value of the property.\n",
      "      * vmax (default: None) specifies the maximum value for scaling the property when one is passed\n",
      "        as the color option. None means to use the max value of the property.\n",
      "      * underlay (default: 'curvature') specifies the default underlay color to plot for the\n",
      "        cortical surface; it may be None, 'curvature', or a color.\n",
      "      * alpha (default None) specifies the alpha values to use for the color plot. If None, then\n",
      "        leaves the alpha values from color unchanged. If a single number, then all alpha values in\n",
      "        color are multiplied by that value. If a list of values, one per vertex, then this vector\n",
      "        is multiplied by the alpha values. Finally, any negative value is set instead of multiplied.\n",
      "        So, for example, if there were 3 vertices with:\n",
      "          * color = ((0,0,0,1), (0,0,1,0.5), (0,0,0.75,0,8))\n",
      "          * alpha = (-0.5, 1, 0.5)\n",
      "        then the resulting colors plotted will be ((0,0,0,0.5), (0,0,1,0.5), (0,0,0.75,0,4)).\n",
      "      * mask (default: None) specifies a mask to use for the mesh; thi sis passed through map.mask()\n",
      "        to figure out the masking. Those vertices not in the mask are not plotted (but they will be\n",
      "        plotted in the underlay if it is not None).\n",
      "      * hemi (defaut: None) specifies the hemisphere to use. If the passed mesh object is actually a\n",
      "        subject or mesh pair then this specifies which hemisphere to use. If the passed object is a\n",
      "        mesh, then this overrides its chirality, if specified in meta_data. If two hemispheres are\n",
      "        given, then this may be 'both' or 'split' in accordinace with PySurfer's Brain() class.\n",
      "      * surface (default: 'white') specifies the surface to use if the mesh object passed is in fact\n",
      "        either a cortex or subject object.\n",
      "      * axes (default: None) specifies a particular set of matplotlib pyplot axes that should be\n",
      "        used. If axes is Ellipsis, then instead of attempting to render the plot, a tuple of\n",
      "        (tri, zs, cmap) is returned; in this case, tri is a matplotlib.tri.Triangulation\n",
      "        object for the given map and zs and cmap are an array and colormap (respectively) that\n",
      "        will produce the correct colors. Without axes equal to Ellipsis, these would instead\n",
      "        be rendered as axes.tripcolor(tri, zs, cmap, shading='gouraud'). If axes is None, then\n",
      "        uses the current axes.\n",
      "      * triangulation (default: None) specifies the matplotlib triangulation object to use, if one\n",
      "        already exists; otherwise a new one is made.\n",
      "\n"
     ]
    }
   ],
   "source": [
    "help(ny.cortex_plot)"
   ]
  }
 ],
 "metadata": {
  "kernelspec": {
   "display_name": "Noah's Python Environment",
   "language": "python",
   "name": "python-nben"
  },
  "language_info": {
   "codemirror_mode": {
    "name": "ipython",
    "version": 3
   },
   "file_extension": ".py",
   "mimetype": "text/x-python",
   "name": "python",
   "nbconvert_exporter": "python",
   "pygments_lexer": "ipython3",
   "version": "3.8.2"
  }
 },
 "nbformat": 4,
 "nbformat_minor": 4
}
