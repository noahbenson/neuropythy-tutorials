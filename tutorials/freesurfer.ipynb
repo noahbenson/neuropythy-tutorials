{
 "cells": [
  {
   "cell_type": "markdown",
   "metadata": {},
   "source": [
    "# Analyzing FreeSurfer Data Using Neuropythy"
   ]
  },
  {
   "cell_type": "markdown",
   "metadata": {},
   "source": [
    "This tutorial is an introduction to using Neuropythy to analyze FreeSurfer data. More information about FreeSurfer itself can be found [here](https://surfer.nmr.mgh.harvard.edu/). This tutorial is about using Neuropythy to examine and visualize the data produced by FreeSurfer, primarily its `recon-all` tool.\n",
    "\n",
    "**Author**: &nbsp;&nbsp; [Noah C. Benson](mailto:nben@uw.edu)  \n",
    "**Date**: &nbsp;&nbsp;&nbsp;&nbsp;&nbsp;&nbsp; June 01, 2022  \n",
    "**Link**: &nbsp;&nbsp;&nbsp;&nbsp;&nbsp;&nbsp;&nbsp; [noahbenson/neuropythy-tutorials](https://github.com/noahbenson/neuropythy-tutorials)"
   ]
  },
  {
   "cell_type": "markdown",
   "metadata": {},
   "source": [
    "## Setup"
   ]
  },
  {
   "cell_type": "markdown",
   "metadata": {},
   "source": [
    "To start with, we need to import various libraries. These include, first, neuropythy itself, and, second, the matplotlib/pyplot libraries for 2D plotting. We also import various utility libraries like os and sys.\n",
    "\n",
    "Note that we setup some options for matplotlib in the cells following our library-import cell. This is due to bugs in previous versions of matplotlib/jupyter that caused problems when the configuration was set in the same cell as the import."
   ]
  },
  {
   "cell_type": "code",
   "execution_count": 1,
   "metadata": {},
   "outputs": [],
   "source": [
    "# Import some standard/utility libraries:\n",
    "import os, sys, six # six provides python 2/3 compatibility\n",
    "\n",
    "# Import our numerical/scientific libraries, scipy and numpy:\n",
    "import numpy as np\n",
    "import scipy as sp\n",
    "\n",
    "# The neuropythy library is a swiss-army-knife for handling MRI data, especially\n",
    "# anatomical/structural data such as that produced by FreeSurfer or the HCP.\n",
    "# https://github.com/noahbenson/neuropythy\n",
    "import neuropythy as ny\n",
    "\n",
    "# Import graphics libraries:\n",
    "# Matplotlib/Pyplot is our 2D graphing library:\n",
    "import matplotlib as mpl\n",
    "import matplotlib.pyplot as plt\n",
    "\n",
    "# We also import ipyvolume, the 3D graphics library used by neurropythy, for 3D\n",
    "# surface rendering (optional).\n",
    "import ipyvolume as ipv"
   ]
  },
  {
   "cell_type": "code",
   "execution_count": 2,
   "metadata": {},
   "outputs": [],
   "source": [
    "# These \"magic commands\" tell matplotlib that we want to plot figures inline and\n",
    "# That we are using qt as a backend; due to bugs in certain versions of\n",
    "# matplotlib, we put them in a separate cell from the import statements above\n",
    "# and the configuration statements below.\n",
    "%matplotlib inline"
   ]
  },
  {
   "cell_type": "markdown",
   "metadata": {},
   "source": [
    "## Choose a Subject"
   ]
  },
  {
   "cell_type": "markdown",
   "metadata": {},
   "source": [
    "We need a subject whose ROIs we are going to draw. This notebook uses the subject `'bert'`, who is included in the docker-image that is part of the tutorials repository and with any FreeSurfer installation. You can optionally configure neuropythy to know where your FreeSurfer subjects directory is, allowing you to load subjects by their names alone (see [this page](https://github.com/noahbenson/neuropythy/wiki/Configuration) for information on configuring neuropythy), but the easiest way to ensure that you load the subject you intend to is to pass the subject's full path."
   ]
  },
  {
   "cell_type": "code",
   "execution_count": 3,
   "metadata": {},
   "outputs": [],
   "source": [
    "# If you aren't running the tutorial in the docker-image, make sure to set this\n",
    "# to a FreeSurfer subject directory that you have access to locally.\n",
    "sub = ny.freesurfer_subject('/data/freesurfer_subjects/bert')"
   ]
  },
  {
   "cell_type": "markdown",
   "metadata": {},
   "source": [
    "## Basic Subject Data"
   ]
  },
  {
   "cell_type": "markdown",
   "metadata": {},
   "source": [
    "### 3D Images via Nibabel"
   ]
  },
  {
   "cell_type": "markdown",
   "metadata": {},
   "source": [
    "Neuropythy uses `nibabel` under the hood to load most FreeSurfer subject data. However, these data are organized into the `Subject` type. Images/volumes that are part of FreeSurfer are stored in the `images` class member. The `images` value is a `dict`-like object (called a lazy-map) that cannot be changed.\n",
    "\n",
    "To see what FreeSurfer images neuropythy knows about, we can look at the keys for the `images` value."
   ]
  },
  {
   "cell_type": "code",
   "execution_count": 4,
   "metadata": {},
   "outputs": [
    {
     "data": {
      "text/plain": [
       "['DKT40_parcellation',\n",
       " 'Desikan06_parcellation',\n",
       " 'Destrieux09_parcellation',\n",
       " 'T2',\n",
       " 'auto_masked_brain',\n",
       " 'auto_segmentation',\n",
       " 'brain',\n",
       " 'brain_mask',\n",
       " 'conformed',\n",
       " 'intensity_normalized',\n",
       " 'lh_gray_mask',\n",
       " 'lh_ribbon',\n",
       " 'lh_white_mask',\n",
       " 'masked_brain',\n",
       " 'normalized',\n",
       " 'original',\n",
       " 'parcellation',\n",
       " 'presurface_segmentation',\n",
       " 'raw',\n",
       " 'rh_gray_mask',\n",
       " 'rh_ribbon',\n",
       " 'rh_white_mask',\n",
       " 'ribbon',\n",
       " 'segmentation',\n",
       " 'uniform',\n",
       " 'white_matter',\n",
       " 'white_parcellation']"
      ]
     },
     "execution_count": 4,
     "metadata": {},
     "output_type": "execute_result"
    }
   ],
   "source": [
    "sorted(sub.images.keys())"
   ]
  },
  {
   "cell_type": "markdown",
   "metadata": {},
   "source": [
    "We'll look at a couple examples: the `'brain'` image and the `'segmentation'` image.\n",
    "\n",
    "First, note that the images themselves are `nibabel` image objects."
   ]
  },
  {
   "cell_type": "code",
   "execution_count": 5,
   "metadata": {},
   "outputs": [
    {
     "data": {
      "text/plain": [
       "<nibabel.freesurfer.mghformat.MGHImage at 0xffff99249990>"
      ]
     },
     "execution_count": 5,
     "metadata": {},
     "output_type": "execute_result"
    }
   ],
   "source": [
    "sub.images['brain']"
   ]
  },
  {
   "cell_type": "markdown",
   "metadata": {},
   "source": [
    "To view the individual voxels, you can extract the `dataobj` array."
   ]
  },
  {
   "cell_type": "code",
   "execution_count": 6,
   "metadata": {},
   "outputs": [
    {
     "data": {
      "text/plain": [
       "numpy.ndarray"
      ]
     },
     "execution_count": 6,
     "metadata": {},
     "output_type": "execute_result"
    }
   ],
   "source": [
    "type(sub.images['brain'].dataobj)"
   ]
  },
  {
   "cell_type": "code",
   "execution_count": 7,
   "metadata": {},
   "outputs": [
    {
     "data": {
      "text/plain": [
       "(256, 256, 256)"
      ]
     },
     "execution_count": 7,
     "metadata": {},
     "output_type": "execute_result"
    }
   ],
   "source": [
    "sub.images['brain'].dataobj.shape"
   ]
  },
  {
   "cell_type": "markdown",
   "metadata": {},
   "source": [
    "The `'brain'` image is a normalized version of the brain after the skull has been stripped. We will plot a few slices using `matplotlib`."
   ]
  },
  {
   "cell_type": "code",
   "execution_count": 8,
   "metadata": {},
   "outputs": [
    {
     "data": {
      "image/png": "[encoded data removed]",
      "text/plain": [
       "<Figure size 432x144 with 3 Axes>"
      ]
     },
     "metadata": {
      "needs_background": "light"
     },
     "output_type": "display_data"
    }
   ],
   "source": [
    "# Extract the brain slices:\n",
    "brain = sub.images['brain']\n",
    "slice0 = brain.dataobj[150,:,:]\n",
    "slice1 = brain.dataobj[:,150,:]\n",
    "slice2 = brain.dataobj[:,:,150]\n",
    "\n",
    "(fig, axs) = plt.subplots(1, 3, figsize=(6, 2))\n",
    "\n",
    "axs[0].imshow(slice0, cmap='gray')\n",
    "axs[1].imshow(slice1, cmap='gray')\n",
    "axs[2].imshow(slice2, cmap='gray')\n",
    "\n",
    "for ax in axs:\n",
    "    ax.axis('off')"
   ]
  },
  {
   "cell_type": "markdown",
   "metadata": {},
   "source": [
    "The segmentation image looks quite a bit different because it stores labels that indicate the anatomical feature associated with each voxel."
   ]
  },
  {
   "cell_type": "code",
   "execution_count": 9,
   "metadata": {},
   "outputs": [
    {
     "data": {
      "image/png": "[encoded data removed]",
      "text/plain": [
       "<Figure size 432x144 with 3 Axes>"
      ]
     },
     "metadata": {
      "needs_background": "light"
     },
     "output_type": "display_data"
    }
   ],
   "source": [
    "# Extract the brain slices:\n",
    "brain = sub.images['segmentation']\n",
    "slice0 = brain.dataobj[150,:,:]\n",
    "slice1 = brain.dataobj[:,150,:]\n",
    "slice2 = brain.dataobj[:,:,150]\n",
    "\n",
    "(fig, axs) = plt.subplots(1, 3, figsize=(6, 2))\n",
    "\n",
    "axs[0].imshow(slice0, cmap='jet')\n",
    "axs[1].imshow(slice1, cmap='jet')\n",
    "axs[2].imshow(slice2, cmap='jet')\n",
    "\n",
    "for ax in axs:\n",
    "    ax.axis('off')"
   ]
  },
  {
   "cell_type": "markdown",
   "metadata": {},
   "source": [
    "### Cortices and Meshes"
   ]
  },
  {
   "cell_type": "markdown",
   "metadata": {},
   "source": [
    "Neuropythy is especially good at managing data for the cortical surfaces that are constructed by FreeSurfer. These data are attached to `Cortex` objects, each of which represents a hemisphere. Although brains typically have two hemispheres (left and right), the data structure for storing hemispheres in neuropythy is a `dict`-like object because there is occasionally a need to represent more than two hemispheres. For example, in FreeSurfer, one can run the `surfreg` tool in order to create `lhx` and `rhx` hemispheres: mirror-reversed pseudo-hemispheres that can be aligned to the ipsilateral hemisphere; similarly, in the Human Connectome Project pipelines (which are also supported by neuropythy), there are not only the `lh` and `rh` native hemispheres, but the resampled `fs_LR` hemispheres.\n",
    "\n",
    "For a typical FreeSurfer subject, however, the hemispheres are just the `'lh'` and `'rh'` hemispheres, which can be accessed either through the `sub.hemis` member variable or the `sub.lh` and `sub.rh` aliases."
   ]
  },
  {
   "cell_type": "code",
   "execution_count": 10,
   "metadata": {},
   "outputs": [
    {
     "data": {
      "text/plain": [
       "(Cortex(<LH>, <266202 faces>, <133103 vertices>),\n",
       " Cortex(<RH>, <267634 faces>, <133819 vertices>))"
      ]
     },
     "execution_count": 10,
     "metadata": {},
     "output_type": "execute_result"
    }
   ],
   "source": [
    "# Each hemisphere has a certain number of faces (triangles) and \n",
    "# vertices (points).\n",
    "(sub.lh, sub.rh)"
   ]
  },
  {
   "cell_type": "code",
   "execution_count": 11,
   "metadata": {},
   "outputs": [
    {
     "data": {
      "text/plain": [
       "True"
      ]
     },
     "execution_count": 11,
     "metadata": {},
     "output_type": "execute_result"
    }
   ],
   "source": [
    "# sub.lh is just an alias for sub.hemis['lh']; the same is true for\n",
    "# the right hemisphere.\n",
    "sub.lh is sub.hemis['lh']"
   ]
  },
  {
   "cell_type": "markdown",
   "metadata": {},
   "source": [
    "The cortex object contains a wide variety of data related to the subject. First, we'll look at the structural organization of the cortex and the meshes that make up its surfaces, then we'll look at additional properties that are calculated by FreeSurfer and tracked by neuropythy."
   ]
  },
  {
   "cell_type": "markdown",
   "metadata": {},
   "source": [
    "#### FreeSurfer Cortex Geometry"
   ]
  },
  {
   "cell_type": "markdown",
   "metadata": {},
   "source": [
    "A cortex/hemisphere has multiple \"surfaces\" including the white-matter surface (`'white'`), the pial surface (`'pial'`), the mid-gray surface (`'midgray'`), the inflated surface (`'inflated'`), and the spherical inflated surface (`'sphere'`). These surfaces are stored in the `sub.surfaces` and `sub.registrations` values, which are both `dict`-like lazy maps (registrations are special kinds of surfaces that have been fully inflated, such as the spherical surface or the fsaverage-aligned surface). However, it is generally suggested that one access the surfaces via the `cortex.surface(surf_name)` method (such as `cortex.surface('white')`). Additionally, some of the surfaces have aliases such as `cortex.white_surface` and `cortex.pial_surface`.\n",
    "\n",
    "All surfaces of a single `Cortex` object share the same number of vertices and the same faces/triangles, meaning that if you have a set of data that maps onto the vertices of the cortex, it will be valid for any of the surfaces of that cortex. In other words, the individual surfaces of a cortex differ only in the position of their vertices (and in any data that are derived from these positions)."
   ]
  },
  {
   "cell_type": "code",
   "execution_count": 12,
   "metadata": {},
   "outputs": [
    {
     "data": {
      "text/plain": [
       "(Mesh(<3D>, <266202 faces>, <133103 vertices>),\n",
       " Mesh(<3D>, <266202 faces>, <133103 vertices>))"
      ]
     },
     "execution_count": 12,
     "metadata": {},
     "output_type": "execute_result"
    }
   ],
   "source": [
    "# Notice that the white and pial surfaces of the LH have the same\n",
    "# number of faces and vertices.\n",
    "(sub.lh.surface('white'), sub.lh.surface('pial'))"
   ]
  },
  {
   "cell_type": "markdown",
   "metadata": {},
   "source": [
    "Surfaces are represented by `Mesh` objects. Meshes track a wide variety of data related to the cortical surface and its geometry. For example, one can extract the surface area of individual triangles on the surface mesh or its vertex normal vectors."
   ]
  },
  {
   "cell_type": "code",
   "execution_count": 13,
   "metadata": {},
   "outputs": [
    {
     "data": {
      "text/plain": [
       "array([0.05471953, 0.070954  , 0.13724601, ..., 0.01795164, 0.03093537,\n",
       "       0.02908281])"
      ]
     },
     "execution_count": 13,
     "metadata": {},
     "output_type": "execute_result"
    }
   ],
   "source": [
    "surf = sub.lh.surface('white')\n",
    "# The face areas gives the surface area in square mm of each face/triangle.\n",
    "surf.face_areas"
   ]
  },
  {
   "cell_type": "code",
   "execution_count": 14,
   "metadata": {},
   "outputs": [
    {
     "data": {
      "text/plain": [
       "array([[ 0.25689024,  0.01344057, -0.05691879, ...,  0.20805192,\n",
       "         0.96850928,  0.87099722],\n",
       "       [-0.93816271, -0.97783371, -0.99662903, ..., -0.63055431,\n",
       "        -0.23229903, -0.2911042 ],\n",
       "       [ 0.23207353,  0.20895116,  0.05908321, ..., -0.74774037,\n",
       "        -0.08959313, -0.3957552 ]])"
      ]
     },
     "execution_count": 14,
     "metadata": {},
     "output_type": "execute_result"
    }
   ],
   "source": [
    "# The vertex normals matrix is a 3 x N matrix of normal vectors at each\n",
    "# vertex on the mesh.\n",
    "surf.vertex_normals"
   ]
  },
  {
   "cell_type": "markdown",
   "metadata": {},
   "source": [
    "To see the coordinates themselves, we can look at `surf.coordinates`."
   ]
  },
  {
   "cell_type": "code",
   "execution_count": 15,
   "metadata": {},
   "outputs": [
    {
     "data": {
      "text/plain": [
       "array([[ -13.12895203,  -13.58367443,  -13.86990738, ...,   -1.292328  ,\n",
       "          -0.65406829,   -0.7429688 ],\n",
       "       [-102.43490601, -102.45557404, -102.47897339, ...,   64.50788116,\n",
       "          64.72080231,   64.82040405],\n",
       "       [  -9.78337669,   -9.7538929 ,   -9.80977821, ...,   -6.64670658,\n",
       "          -5.71247339,   -6.38333845]])"
      ]
     },
     "execution_count": 15,
     "metadata": {},
     "output_type": "execute_result"
    }
   ],
   "source": [
    "surf.coordinates"
   ]
  },
  {
   "cell_type": "markdown",
   "metadata": {},
   "source": [
    "An important thing to realize about the cortices and surfaces is that, although the vertices are shared across surfaces, there is no particular ordering to the vertices on a surface/cortex. Two vertices that are near each other in the vertex list may not be near each other at all on the mesh. In order to see what vertices are linked to each other, we can look instead at the `surf.tess` object, which stores information about how the surface is tesselated: in other words, how triangles and vertices are connected and arranged on the mesh. This `tess` object is also shared with the `Cortex` object."
   ]
  },
  {
   "cell_type": "code",
   "execution_count": 16,
   "metadata": {},
   "outputs": [
    {
     "data": {
      "text/plain": [
       "Tesselation(<266202 faces>, <133103 vertices>)"
      ]
     },
     "execution_count": 16,
     "metadata": {},
     "output_type": "execute_result"
    }
   ],
   "source": [
    "surf.tess"
   ]
  },
  {
   "cell_type": "markdown",
   "metadata": {},
   "source": [
    "More information about the tesselation object and how it is connected to the surfaces and cortices can be found in the geometry tutorial."
   ]
  },
  {
   "cell_type": "markdown",
   "metadata": {},
   "source": [
    "#### FreeSurfer Cortex Properties"
   ]
  },
  {
   "cell_type": "markdown",
   "metadata": {},
   "source": [
    "In addition to tracking the basic geometric information produced by FreeSurfer, neuropythy also tracks a number of properties of the cortical surface. These properties include things like the gray-matter thickness, the surface area of each individual vertex on the various surfaces, the curvature, and various parcellations of the surface.\n",
    "\n",
    "Properties are identical across a single `Cortex` object and all of its surfaces. The interface is the same for both. We'll start by looking at a list of the available properties in a subject's hemisphere."
   ]
  },
  {
   "cell_type": "code",
   "execution_count": 17,
   "metadata": {},
   "outputs": [
    {
     "data": {
      "text/plain": [
       "['BA1_label',\n",
       " 'BA1_weight',\n",
       " 'BA2_label',\n",
       " 'BA2_weight',\n",
       " 'BA3a_label',\n",
       " 'BA3a_weight',\n",
       " 'BA3b_label',\n",
       " 'BA3b_weight',\n",
       " 'BA44_label',\n",
       " 'BA44_weight',\n",
       " 'BA45_label',\n",
       " 'BA45_weight',\n",
       " 'BA4a_label',\n",
       " 'BA4a_weight',\n",
       " 'BA4p_label',\n",
       " 'BA4p_weight',\n",
       " 'BA6_label',\n",
       " 'BA6_weight',\n",
       " 'DKT40_parcellation',\n",
       " 'Desikan06_parcellation',\n",
       " 'Destrieux09_parcellation',\n",
       " 'MT_label',\n",
       " 'MT_weight',\n",
       " 'V1_label',\n",
       " 'V1_weight',\n",
       " 'V2_label',\n",
       " 'V2_weight',\n",
       " 'atlas_curvature',\n",
       " 'brodmann_area',\n",
       " 'brodmann_area_wide',\n",
       " 'convexity',\n",
       " 'cortex_label',\n",
       " 'curvature',\n",
       " 'entorhinal_label',\n",
       " 'entorhinal_weight',\n",
       " 'index',\n",
       " 'jacobian_norm',\n",
       " 'label',\n",
       " 'midgray_surface_area',\n",
       " 'parcellation',\n",
       " 'perirhinal_label',\n",
       " 'perirhinal_weight',\n",
       " 'pial_curvature',\n",
       " 'pial_surface_area',\n",
       " 'surface_area',\n",
       " 'thickness',\n",
       " 'white_curvature',\n",
       " 'white_surface_area']"
      ]
     },
     "execution_count": 17,
     "metadata": {},
     "output_type": "execute_result"
    }
   ],
   "source": [
    "sorted(sub.lh.properties.keys())"
   ]
  },
  {
   "cell_type": "markdown",
   "metadata": {},
   "source": [
    "There should be a rather large number of properties here (the number may be smaller or larger depending on what FreeSurfer subject you used for this tutorial). We'll now take a closer look at a few more common properties.\n",
    "\n",
    "In general, the properties attached to a FreeSurfer subject's `Cortex` object can be found in the subjects `surf` and `label` directories. Properties that end in `_label` are typically boolean maps where `True` indicates that a vertex is part of a region of interest (for example the `'V1_label'` property indicates which vertices are in V1, according to FreeSurfer's anatomical alignment); similarly, properties that end in `_weight` are usually unrounded versions of the matching `_label` property. For example, if one rounds `'V1_weight'` to either 1 or 0 at each vertex, one should get a vector of boolean values that is identical to the `'V1_label'` property.\n",
    "\n",
    "Other properties such as `'curvature'` and `'thickness'` give specific values such as the gray-matter thickness in mm (in the case of `'thickness'`)."
   ]
  },
  {
   "cell_type": "code",
   "execution_count": 18,
   "metadata": {},
   "outputs": [
    {
     "data": {
      "text/plain": [
       "(array([-0.2944349 , -0.28993565, -0.2842038 , ..., -0.4435404 ,\n",
       "        -0.45679098, -0.5688864 ], dtype=float32),\n",
       " array([-0.2944349 , -0.28993565, -0.2842038 , ..., -0.4435404 ,\n",
       "        -0.45679098, -0.5688864 ], dtype=float32))"
      ]
     },
     "execution_count": 18,
     "metadata": {},
     "output_type": "execute_result"
    }
   ],
   "source": [
    "# We can extract a property with the prop method or by directly pulling\n",
    "# it from the properties dictionary.\n",
    "(sub.lh.prop('curvature'),\n",
    " sub.lh.properties['curvature'])"
   ]
  },
  {
   "cell_type": "markdown",
   "metadata": {},
   "source": [
    "Properties are typically vectors with one value per vertex. Any property attached to a given surface or cortex should always have the same number of rows as there are vertices in the associated object."
   ]
  },
  {
   "cell_type": "code",
   "execution_count": 19,
   "metadata": {},
   "outputs": [
    {
     "data": {
      "text/plain": [
       "True"
      ]
     },
     "execution_count": 19,
     "metadata": {},
     "output_type": "execute_result"
    }
   ],
   "source": [
    "len(surf.prop('curvature')) == surf.vertex_count"
   ]
  },
  {
   "cell_type": "markdown",
   "metadata": {},
   "source": [
    "If we want to see a property visualized on the cortical surface, we can plot the cortical surface using that property as the color. For more information on plotting, see the plotting tutorial."
   ]
  },
  {
   "cell_type": "code",
   "execution_count": 20,
   "metadata": {},
   "outputs": [
    {
     "data": {
      "application/vnd.jupyter.widget-view+json": {
       "model_id": "267f5ea2deb6431db3f154c82573e9b1",
       "version_major": 2,
       "version_minor": 0
      },
      "text/plain": [
       "Figure(camera=PerspectiveCamera(fov=0.644570721372708, position=(0.0, -100.0, 0.0), projectionMatrix=(1.0, 0.0…"
      ]
     },
     "metadata": {},
     "output_type": "display_data"
    }
   ],
   "source": [
    "# We'll plot the thickness property, with a minimum value\n",
    "# (for the colormap) of 2 mm and a max of 6 mm.\n",
    "ny.cortex_plot(surf, color='thickness', cmap='hot', vmin=2, vmax=6)"
   ]
  }
 ],
 "metadata": {
  "kernelspec": {
   "display_name": "Python 3 (ipykernel)",
   "language": "python",
   "name": "python3"
  },
  "language_info": {
   "codemirror_mode": {
    "name": "ipython",
    "version": 3
   },
   "file_extension": ".py",
   "mimetype": "text/x-python",
   "name": "python",
   "nbconvert_exporter": "python",
   "pygments_lexer": "ipython3",
   "version": "3.10.4"
  }
 },
 "nbformat": 4,
 "nbformat_minor": 4
}
