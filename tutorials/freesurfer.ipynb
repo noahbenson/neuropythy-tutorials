{
 "cells": [
  {
   "cell_type": "markdown",
   "metadata": {},
   "source": [
    "# Analyzing FreeSurfer Data Using Neuropythy"
   ]
  },
  {
   "cell_type": "markdown",
   "metadata": {},
   "source": [
    "This tutorial is an introduction to using Neuropythy to analyze FreeSurfer data. More information about FreeSurfer itself can be found [here](https://surfer.nmr.mgh.harvard.edu/). This tutorial is about using Neuropythy to examine and visualize the data produced by FreeSurfer, primarily its `recon-all` tool.\n",
    "\n",
    "**Author**: &nbsp;&nbsp; [Noah C. Benson](mailto:nben@uw.edu)  \n",
    "**Date**: &nbsp;&nbsp;&nbsp;&nbsp;&nbsp;&nbsp; June 01, 2022  \n",
    "**Link**: &nbsp;&nbsp;&nbsp;&nbsp;&nbsp;&nbsp;&nbsp; [noahbenson/neuropythy-tutorials](https://github.com/noahbenson/neuropythy-tutorials)"
   ]
  },
  {
   "cell_type": "markdown",
   "metadata": {},
   "source": [
    "## Setup"
   ]
  },
  {
   "cell_type": "markdown",
   "metadata": {},
   "source": [
    "To start with, we need to import various libraries. These include, first, neuropythy itself, and, second, the matplotlib/pyplot libraries for 2D plotting. We also import various utility libraries like os and sys.\n",
    "\n",
    "Note that we setup some options for matplotlib in the cells following our library-import cell. This is due to bugs in previous versions of matplotlib/jupyter that caused problems when the configuration was set in the same cell as the import."
   ]
  },
  {
   "cell_type": "code",
   "execution_count": 1,
   "metadata": {},
   "outputs": [],
   "source": [
    "# Import some standard/utility libraries:\n",
    "import os, sys, six # six provides python 2/3 compatibility\n",
    "\n",
    "# Import our numerical/scientific libraries, scipy and numpy:\n",
    "import numpy as np\n",
    "import scipy as sp\n",
    "\n",
    "# The neuropythy library is a swiss-army-knife for handling MRI data, especially\n",
    "# anatomical/structural data such as that produced by FreeSurfer or the HCP.\n",
    "# https://github.com/noahbenson/neuropythy\n",
    "import neuropythy as ny\n",
    "\n",
    "# Import graphics libraries:\n",
    "# Matplotlib/Pyplot is our 2D graphing library:\n",
    "import matplotlib as mpl\n",
    "import matplotlib.pyplot as plt\n",
    "\n",
    "# We also import ipyvolume, the 3D graphics library used by neurropythy, for 3D\n",
    "# surface rendering (optional).\n",
    "import ipyvolume as ipv"
   ]
  },
  {
   "cell_type": "code",
   "execution_count": 2,
   "metadata": {},
   "outputs": [],
   "source": [
    "# These \"magic commands\" tell matplotlib that we want to plot figures inline and\n",
    "# That we are using qt as a backend; due to bugs in certain versions of\n",
    "# matplotlib, we put them in a separate cell from the import statements above\n",
    "# and the configuration statements below.\n",
    "%matplotlib inline"
   ]
  },
  {
   "cell_type": "code",
   "execution_count": 3,
   "metadata": {},
   "outputs": [],
   "source": [
    "# Additional matplotlib preferences:\n",
    "font_data = {'family':'sans-serif',\n",
    "             'sans-serif':['Helvetica Neue', 'HelveticaNeue', 'Helvetica', 'Arial'],\n",
    "             'size': 10,\n",
    "             'weight': 'light'}\n",
    "mpl.rc('font',**font_data)\n",
    "# we want relatively high-res images, especially when saving to disk.\n",
    "mpl.rcParams['figure.dpi'] = 72*2\n",
    "mpl.rcParams['savefig.dpi'] = 72*4"
   ]
  },
  {
   "cell_type": "markdown",
   "metadata": {},
   "source": [
    "## Choose a Subject"
   ]
  },
  {
   "cell_type": "markdown",
   "metadata": {},
   "source": [
    "We need a subject whose ROIs we are going to draw. This notebook uses the subject 'S1202' from from [Benson and Winawer (2018)](https://doi.org/10.7554/eLife.40224), which neuropythy will automatically download for you. The first time you download this, it will likely take some time as neuropythy needs to download and unzip most of the dataset. This will be cached if possible: If you are using the Docker container to run this tutorial, the cache will only be cleared whenever the docker-image is rebuilt; otherwise, if you don't have a path configured for the neuropythy config item `'data_cache_root'`, these data will be downloaded fresh each time you run the notebook (and will be auto-deleted when your python kernel exits). To check this, you can look at `ny.config['data_cache_root']`. This can be set to a valid directory to store various neuropythy auto-downloaded data. The file `~/.npythyrc` containing a dictionary in JSON format may be given the key `\"data_cache_root\"` to ensure that this configuration is preserved across sessions. The data downloaded by neuropythy to this directory may be deleted without consequence (aside from needing to re-download it again later)."
   ]
  },
  {
   "cell_type": "code",
   "execution_count": 5,
   "metadata": {},
   "outputs": [],
   "source": [
    "# Note: This may take awhile to download if you have not downloaded these\n",
    "# data previously (~9 GB once extracted).\n",
    "sub = ny.data['benson_winawer_2018'].subjects['S1202']"
   ]
  },
  {
   "cell_type": "markdown",
   "metadata": {},
   "source": [
    "Alternately, if you want to use a subject of your own, you can provide neuropythy with the subject's path."
   ]
  },
  {
   "cell_type": "code",
   "execution_count": null,
   "metadata": {},
   "outputs": [],
   "source": [
    "sub_path = '/data/cache/benson_winawer_2018/freesurfer_subjects/S1202'\n",
    "sub = ny.freesurfer_subject(sub_path)"
   ]
  },
  {
   "cell_type": "markdown",
   "metadata": {},
   "source": [
    "## Basic Subject Data"
   ]
  },
  {
   "cell_type": "markdown",
   "metadata": {},
   "source": [
    "### 3D Images via Nibabel"
   ]
  },
  {
   "cell_type": "markdown",
   "metadata": {},
   "source": [
    "Neuropythy uses `nibabel` under the hood to load most FreeSurfer subject data. However, these data are organized into the `Subject` type. Images/volumes that are part of FreeSurfer are stored in the `images` class member. The `images` value is a `dict`-like object (called a lazy-map) that cannot be changed.\n",
    "\n",
    "To see what FreeSurfer images neuropythy knows about, we can look at the keys for the `images` value."
   ]
  },
  {
   "cell_type": "code",
   "execution_count": 8,
   "metadata": {},
   "outputs": [
    {
     "data": {
      "text/plain": [
       "['DKT40_parcellation',\n",
       " 'Desikan06_parcellation',\n",
       " 'Destrieux09_parcellation',\n",
       " 'T2',\n",
       " 'auto_masked_brain',\n",
       " 'auto_segmentation',\n",
       " 'brain',\n",
       " 'brain_mask',\n",
       " 'conformed',\n",
       " 'intensity_normalized',\n",
       " 'lh_gray_mask',\n",
       " 'lh_ribbon',\n",
       " 'lh_white_mask',\n",
       " 'masked_brain',\n",
       " 'normalized',\n",
       " 'original',\n",
       " 'parcellation',\n",
       " 'presurface_segmentation',\n",
       " 'raw',\n",
       " 'rh_gray_mask',\n",
       " 'rh_ribbon',\n",
       " 'rh_white_mask',\n",
       " 'ribbon',\n",
       " 'segmentation',\n",
       " 'uniform',\n",
       " 'white_matter',\n",
       " 'white_parcellation']"
      ]
     },
     "execution_count": 8,
     "metadata": {},
     "output_type": "execute_result"
    }
   ],
   "source": [
    "sorted(sub.images.keys())"
   ]
  },
  {
   "cell_type": "markdown",
   "metadata": {},
   "source": [
    "We'll look at a couple examples: the `'brain'` image and the `'segmentation'` image.\n",
    "\n",
    "First, note that the images themselves are `nibabel` image objects."
   ]
  },
  {
   "cell_type": "code",
   "execution_count": 18,
   "metadata": {},
   "outputs": [
    {
     "data": {
      "text/plain": [
       "<nibabel.freesurfer.mghformat.MGHImage at 0x7f70e84f6c70>"
      ]
     },
     "execution_count": 18,
     "metadata": {},
     "output_type": "execute_result"
    }
   ],
   "source": [
    "sub.images['brain']"
   ]
  },
  {
   "cell_type": "markdown",
   "metadata": {},
   "source": [
    "To view the individual voxels, you can extract the `dataobj` array."
   ]
  },
  {
   "cell_type": "code",
   "execution_count": 20,
   "metadata": {},
   "outputs": [
    {
     "data": {
      "text/plain": [
       "numpy.ndarray"
      ]
     },
     "execution_count": 20,
     "metadata": {},
     "output_type": "execute_result"
    }
   ],
   "source": [
    "type(sub.images['brain'].dataobj)"
   ]
  },
  {
   "cell_type": "code",
   "execution_count": 21,
   "metadata": {},
   "outputs": [
    {
     "data": {
      "text/plain": [
       "(256, 256, 256)"
      ]
     },
     "execution_count": 21,
     "metadata": {},
     "output_type": "execute_result"
    }
   ],
   "source": [
    "sub.images['brain'].dataobj.shape"
   ]
  },
  {
   "cell_type": "markdown",
   "metadata": {},
   "source": [
    "The `'brain'` image is a normalized version of the brain after the skull has been stripped. We will plot a few slices using `matplotlib`."
   ]
  },
  {
   "cell_type": "code",
   "execution_count": 14,
   "metadata": {},
   "outputs": [
    {
     "data": {
      "image/png": "[encoded data removed]",
      "text/plain": [
       "<Figure size 864x288 with 3 Axes>"
      ]
     },
     "metadata": {
      "needs_background": "light"
     },
     "output_type": "display_data"
    }
   ],
   "source": [
    "# Extract the brain slices:\n",
    "brain = sub.images['brain']\n",
    "slice0 = brain.dataobj[150,:,:]\n",
    "slice1 = brain.dataobj[:,150,:]\n",
    "slice2 = brain.dataobj[:,:,150]\n",
    "\n",
    "(fig, axs) = plt.subplots(1, 3, figsize=(6, 2))\n",
    "\n",
    "axs[0].imshow(slice0, cmap='gray')\n",
    "axs[1].imshow(slice1, cmap='gray')\n",
    "axs[2].imshow(slice2, cmap='gray')\n",
    "\n",
    "for ax in axs:\n",
    "    ax.axis('off')"
   ]
  },
  {
   "cell_type": "markdown",
   "metadata": {},
   "source": [
    "The segmentation image looks quite a bit different because it stores labels that indicate the anatomical feature associated with each voxel."
   ]
  },
  {
   "cell_type": "code",
   "execution_count": 28,
   "metadata": {},
   "outputs": [
    {
     "data": {
      "image/png": "[encoded data removed]",
      "text/plain": [
       "<Figure size 864x288 with 3 Axes>"
      ]
     },
     "metadata": {
      "needs_background": "light"
     },
     "output_type": "display_data"
    }
   ],
   "source": [
    "# Extract the brain slices:\n",
    "brain = sub.images['segmentation']\n",
    "slice0 = brain.dataobj[150,:,:]\n",
    "slice1 = brain.dataobj[:,150,:]\n",
    "slice2 = brain.dataobj[:,:,150]\n",
    "\n",
    "(fig, axs) = plt.subplots(1, 3, figsize=(6, 2))\n",
    "\n",
    "axs[0].imshow(slice0, cmap='jet')\n",
    "axs[1].imshow(slice1, cmap='jet')\n",
    "axs[2].imshow(slice2, cmap='jet')\n",
    "\n",
    "for ax in axs:\n",
    "    ax.axis('off')"
   ]
  },
  {
   "cell_type": "markdown",
   "metadata": {},
   "source": [
    "### Cortices and Meshes"
   ]
  },
  {
   "cell_type": "markdown",
   "metadata": {},
   "source": [
    "Neuropythy is especially good at managing data for the cortical surfaces that are constructed by FreeSurfer. These data are attached to `Cortex` objects, each of which represents a hemisphere. Although brains typically have two hemispheres (left and right), the data structure for storing hemispheres in neuropythy is a `dict`-like object because there is occasionally a need to represent more than two hemispheres. For example, in FreeSurfer, one can run the `surfreg` tool in order to create `lhx` and `rhx` hemispheres: mirror-reversed pseudo-hemispheres that can be aligned to the ipsilateral hemisphere; similarly, in the Human Connectome Project pipelines (which are also supported by neuropythy), there are not only the `lh` and `rh` native hemispheres, but the resampled `fs_LR` hemispheres.\n",
    "\n",
    "For a typical FreeSurfer subject, however, the hemispheres are just the `'lh'` and `'rh'` hemispheres, which can be accessed either through the `sub.hemis` member variable or the `sub.lh` and `sub.rh` aliases."
   ]
  },
  {
   "cell_type": "code",
   "execution_count": 29,
   "metadata": {},
   "outputs": [
    {
     "data": {
      "text/plain": [
       "(Cortex(<LH>, <301348 faces>, <150676 vertices>),\n",
       " Cortex(<RH>, <305856 faces>, <152930 vertices>))"
      ]
     },
     "execution_count": 29,
     "metadata": {},
     "output_type": "execute_result"
    }
   ],
   "source": [
    "# Each hemisphere has a certain number of faces (triangles) and \n",
    "# vertices (points).\n",
    "(sub.lh, sub.rh)"
   ]
  },
  {
   "cell_type": "code",
   "execution_count": 30,
   "metadata": {},
   "outputs": [
    {
     "data": {
      "text/plain": [
       "True"
      ]
     },
     "execution_count": 30,
     "metadata": {},
     "output_type": "execute_result"
    }
   ],
   "source": [
    "# sub.lh is just an alias for sub.hemis['lh']; the same is true for\n",
    "# the right hemisphere.\n",
    "sub.lh is sub.hemis['lh']"
   ]
  },
  {
   "cell_type": "markdown",
   "metadata": {},
   "source": [
    "The cortex object contains a wide variety of data related to the subject. First, we'll look at the structural organization of the cortex and the meshes that make up its surfaces, then we'll look at additional properties that are calculated by FreeSurfer and tracked by neuropythy."
   ]
  },
  {
   "cell_type": "markdown",
   "metadata": {},
   "source": [
    "#### FreeSurfer Cortex Geometry"
   ]
  },
  {
   "cell_type": "markdown",
   "metadata": {},
   "source": [
    "A cortex/hemisphere has multiple \"surfaces\" including the white-matter surface (`'white'`), the pial surface (`'pial'`), the mid-gray surface (`'midgray'`), the inflated surface (`'inflated'`), and the spherical inflated surface (`'sphere'`). These surfaces are stored in the `sub.surfaces` and `sub.registrations` values, which are both `dict`-like lazy maps (registrations are special kinds of surfaces that have been fully inflated, such as the spherical surface or the fsaverage-aligned surface). However, it is generally suggested that one access the surfaces via the `cortex.surface(surf_name)` method (such as `cortex.surface('white')`). Additionally, some of the surfaces have aliases such as `cortex.white_surface` and `cortex.pial_surface`.\n",
    "\n",
    "All surfaces of a single `Cortex` object share the same number of vertices and the same faces/triangles, meaning that if you have a set of data that maps onto the vertices of the cortex, it will be valid for any of the surfaces of that cortex. In other words, the individual surfaces of a cortex differ only in the position of their vertices (and in any data that are derived from these positions)."
   ]
  },
  {
   "cell_type": "code",
   "execution_count": 35,
   "metadata": {},
   "outputs": [
    {
     "data": {
      "text/plain": [
       "(Mesh(<3D>, <301348 faces>, <150676 vertices>),\n",
       " Mesh(<3D>, <301348 faces>, <150676 vertices>))"
      ]
     },
     "execution_count": 35,
     "metadata": {},
     "output_type": "execute_result"
    }
   ],
   "source": [
    "# Notice that the white and pial surfaces of the LH have the same\n",
    "# number of faces and vertices.\n",
    "(sub.lh.surface('white'), sub.lh.surface('pial'))"
   ]
  },
  {
   "cell_type": "markdown",
   "metadata": {},
   "source": [
    "Surfaces are represented by `Mesh` objects. Meshes track a wide variety of data related to the cortical surface and its geometry. For example, one can extract the surface area of individual triangles on the surface mesh or its vertex normal vectors."
   ]
  },
  {
   "cell_type": "code",
   "execution_count": 34,
   "metadata": {},
   "outputs": [
    {
     "data": {
      "text/plain": [
       "array([0.14455559, 0.25920356, 0.14544194, ..., 0.27169516, 0.06296533,\n",
       "       0.21624971])"
      ]
     },
     "execution_count": 34,
     "metadata": {},
     "output_type": "execute_result"
    }
   ],
   "source": [
    "surf = sub.lh.surface('white')\n",
    "# The face areas gives the surface area in square mm of each face/triangle.\n",
    "surf.face_areas"
   ]
  },
  {
   "cell_type": "code",
   "execution_count": 36,
   "metadata": {},
   "outputs": [
    {
     "data": {
      "text/plain": [
       "array([[ 0.16185038, -0.02668458,  0.12130427, ...,  0.73368211,\n",
       "         0.93366448,  0.25063343],\n",
       "       [-0.97803601, -0.98206501, -0.98606196, ...,  0.42604031,\n",
       "         0.35297881,  0.78438413],\n",
       "       [ 0.1313393 ,  0.18664471,  0.11387312, ..., -0.52933941,\n",
       "         0.06063503,  0.56738383]])"
      ]
     },
     "execution_count": 36,
     "metadata": {},
     "output_type": "execute_result"
    }
   ],
   "source": [
    "# The vertex normals matrix is a 3 x N matrix of normal vectors at each\n",
    "# vertex on the mesh.\n",
    "surf.vertex_normals"
   ]
  },
  {
   "cell_type": "markdown",
   "metadata": {},
   "source": [
    "To see the coordinates themselves, we can look at `surf.coordinates`."
   ]
  },
  {
   "cell_type": "code",
   "execution_count": 37,
   "metadata": {},
   "outputs": [
    {
     "data": {
      "text/plain": [
       "array([[-13.66363335, -14.10378456, -13.87007427, ..., -27.54828262,\n",
       "        -39.29711914, -39.90075684],\n",
       "       [-97.51038361, -97.53864288, -97.59673309, ...,  22.45863152,\n",
       "         31.09713554,  31.26587486],\n",
       "       [  2.80207491,   2.93575072,   2.21514249, ..., -19.2339344 ,\n",
       "         -9.69529533,  -9.00223923]])"
      ]
     },
     "execution_count": 37,
     "metadata": {},
     "output_type": "execute_result"
    }
   ],
   "source": [
    "surf.coordinates"
   ]
  },
  {
   "cell_type": "markdown",
   "metadata": {},
   "source": [
    "An important thing to realize about the cortices and surfaces is that, although the vertices are shared across surfaces, there is no particular ordering to the vertices on a surface/cortex. Two vertices that are near each other in the vertex list may not be near each other at all on the mesh. In order to see what vertices are linked to each other, we can look instead at the `surf.tess` object, which stores information about how the surface is tesselated: in other words, how triangles and vertices are connected and arranged on the mesh. This `tess` object is also shared with the `Cortex` object."
   ]
  },
  {
   "cell_type": "code",
   "execution_count": 38,
   "metadata": {},
   "outputs": [
    {
     "data": {
      "text/plain": [
       "Tesselation(<301348 faces>, <150676 vertices>)"
      ]
     },
     "execution_count": 38,
     "metadata": {},
     "output_type": "execute_result"
    }
   ],
   "source": [
    "surf.tess"
   ]
  },
  {
   "cell_type": "markdown",
   "metadata": {},
   "source": [
    "More information about the tesselation object and how it is connected to the surfaces and cortices can be found in the geometry tutorial."
   ]
  },
  {
   "cell_type": "markdown",
   "metadata": {},
   "source": [
    "#### FreeSurfer Cortex Properties"
   ]
  },
  {
   "cell_type": "markdown",
   "metadata": {},
   "source": [
    "In addition to tracking the basic geometric information produced by FreeSurfer, neuropythy also tracks a number of properties of the cortical surface. These properties include things like the gray-matter thickness, the surface area of each individual vertex on the various surfaces, the curvature, and various parcellations of the surface.\n",
    "\n",
    "Properties are identical across a single `Cortex` object and all of its surfaces. The interface is the same for both. We'll start by looking at a list of the available properties in a subject's hemisphere."
   ]
  },
  {
   "cell_type": "code",
   "execution_count": 39,
   "metadata": {
    "scrolled": false
   },
   "outputs": [
    {
     "data": {
      "text/plain": [
       "['BA1_label',\n",
       " 'BA1_weight',\n",
       " 'BA2_label',\n",
       " 'BA2_weight',\n",
       " 'BA3a_label',\n",
       " 'BA3a_weight',\n",
       " 'BA3b_label',\n",
       " 'BA3b_weight',\n",
       " 'BA44_label',\n",
       " 'BA44_weight',\n",
       " 'BA45_label',\n",
       " 'BA45_weight',\n",
       " 'BA4a_label',\n",
       " 'BA4a_weight',\n",
       " 'BA4p_label',\n",
       " 'BA4p_weight',\n",
       " 'BA6_label',\n",
       " 'BA6_weight',\n",
       " 'DKT40_parcellation',\n",
       " 'Desikan06_parcellation',\n",
       " 'Destrieux09_parcellation',\n",
       " 'MT_label',\n",
       " 'MT_weight',\n",
       " 'V1_label',\n",
       " 'V1_weight',\n",
       " 'V2_label',\n",
       " 'V2_weight',\n",
       " 'atlas_curvature',\n",
       " 'brodmann_area',\n",
       " 'brodmann_area_wide',\n",
       " 'convexity',\n",
       " 'cortex_label',\n",
       " 'curvature',\n",
       " 'entorhinal_label',\n",
       " 'entorhinal_weight',\n",
       " 'index',\n",
       " 'inf-prf00_eccentricity',\n",
       " 'inf-prf00_polar_angle',\n",
       " 'inf-prf00_radius',\n",
       " 'inf-prf00_visual_area',\n",
       " 'inf-prf01_eccentricity',\n",
       " 'inf-prf01_polar_angle',\n",
       " 'inf-prf01_radius',\n",
       " 'inf-prf01_visual_area',\n",
       " 'inf-prf02_eccentricity',\n",
       " 'inf-prf02_polar_angle',\n",
       " 'inf-prf02_radius',\n",
       " 'inf-prf02_visual_area',\n",
       " 'inf-prf03_eccentricity',\n",
       " 'inf-prf03_polar_angle',\n",
       " 'inf-prf03_radius',\n",
       " 'inf-prf03_visual_area',\n",
       " 'inf-prf04_eccentricity',\n",
       " 'inf-prf04_polar_angle',\n",
       " 'inf-prf04_radius',\n",
       " 'inf-prf04_visual_area',\n",
       " 'inf-prf05_eccentricity',\n",
       " 'inf-prf05_polar_angle',\n",
       " 'inf-prf05_radius',\n",
       " 'inf-prf05_visual_area',\n",
       " 'inf-prf06_eccentricity',\n",
       " 'inf-prf06_polar_angle',\n",
       " 'inf-prf06_radius',\n",
       " 'inf-prf06_visual_area',\n",
       " 'inf-prf07_eccentricity',\n",
       " 'inf-prf07_polar_angle',\n",
       " 'inf-prf07_radius',\n",
       " 'inf-prf07_visual_area',\n",
       " 'inf-prf08_eccentricity',\n",
       " 'inf-prf08_polar_angle',\n",
       " 'inf-prf08_radius',\n",
       " 'inf-prf08_visual_area',\n",
       " 'inf-prf09_eccentricity',\n",
       " 'inf-prf09_polar_angle',\n",
       " 'inf-prf09_radius',\n",
       " 'inf-prf09_visual_area',\n",
       " 'inf-prf10_eccentricity',\n",
       " 'inf-prf10_polar_angle',\n",
       " 'inf-prf10_radius',\n",
       " 'inf-prf10_visual_area',\n",
       " 'inf-prf11_eccentricity',\n",
       " 'inf-prf11_polar_angle',\n",
       " 'inf-prf11_radius',\n",
       " 'inf-prf11_visual_area',\n",
       " 'inf-prf12_eccentricity',\n",
       " 'inf-prf12_polar_angle',\n",
       " 'inf-prf12_radius',\n",
       " 'inf-prf12_visual_area',\n",
       " 'inf-prf13_eccentricity',\n",
       " 'inf-prf13_polar_angle',\n",
       " 'inf-prf13_radius',\n",
       " 'inf-prf13_visual_area',\n",
       " 'inf-prf14_eccentricity',\n",
       " 'inf-prf14_polar_angle',\n",
       " 'inf-prf14_radius',\n",
       " 'inf-prf14_visual_area',\n",
       " 'inf-prf15_eccentricity',\n",
       " 'inf-prf15_polar_angle',\n",
       " 'inf-prf15_radius',\n",
       " 'inf-prf15_visual_area',\n",
       " 'inf-prf16_eccentricity',\n",
       " 'inf-prf16_polar_angle',\n",
       " 'inf-prf16_radius',\n",
       " 'inf-prf16_visual_area',\n",
       " 'inf-prf17_eccentricity',\n",
       " 'inf-prf17_polar_angle',\n",
       " 'inf-prf17_radius',\n",
       " 'inf-prf17_visual_area',\n",
       " 'inf-prf18_eccentricity',\n",
       " 'inf-prf18_polar_angle',\n",
       " 'inf-prf18_radius',\n",
       " 'inf-prf18_visual_area',\n",
       " 'inf-prf19_eccentricity',\n",
       " 'inf-prf19_polar_angle',\n",
       " 'inf-prf19_radius',\n",
       " 'inf-prf19_visual_area',\n",
       " 'inf-prf20_eccentricity',\n",
       " 'inf-prf20_polar_angle',\n",
       " 'inf-prf20_radius',\n",
       " 'inf-prf20_visual_area',\n",
       " 'inf-prf21_eccentricity',\n",
       " 'inf-prf21_polar_angle',\n",
       " 'inf-prf21_radius',\n",
       " 'inf-prf21_visual_area',\n",
       " 'inf-prf_eccentricity',\n",
       " 'inf-prf_polar_angle',\n",
       " 'inf-prf_radius',\n",
       " 'inf-prf_visual_area',\n",
       " 'jacobian_norm',\n",
       " 'label',\n",
       " 'midgray_surface_area',\n",
       " 'parcellation',\n",
       " 'perirhinal_label',\n",
       " 'perirhinal_weight',\n",
       " 'pial_curvature',\n",
       " 'pial_surface_area',\n",
       " 'prf00_eccentricity',\n",
       " 'prf00_polar_angle',\n",
       " 'prf00_radius',\n",
       " 'prf00_variance_explained',\n",
       " 'prf01_eccentricity',\n",
       " 'prf01_polar_angle',\n",
       " 'prf01_radius',\n",
       " 'prf01_variance_explained',\n",
       " 'prf02_eccentricity',\n",
       " 'prf02_polar_angle',\n",
       " 'prf02_radius',\n",
       " 'prf02_variance_explained',\n",
       " 'prf03_eccentricity',\n",
       " 'prf03_polar_angle',\n",
       " 'prf03_radius',\n",
       " 'prf03_variance_explained',\n",
       " 'prf04_eccentricity',\n",
       " 'prf04_polar_angle',\n",
       " 'prf04_radius',\n",
       " 'prf04_variance_explained',\n",
       " 'prf05_eccentricity',\n",
       " 'prf05_polar_angle',\n",
       " 'prf05_radius',\n",
       " 'prf05_variance_explained',\n",
       " 'prf06_eccentricity',\n",
       " 'prf06_polar_angle',\n",
       " 'prf06_radius',\n",
       " 'prf06_variance_explained',\n",
       " 'prf07_eccentricity',\n",
       " 'prf07_polar_angle',\n",
       " 'prf07_radius',\n",
       " 'prf07_variance_explained',\n",
       " 'prf08_eccentricity',\n",
       " 'prf08_polar_angle',\n",
       " 'prf08_radius',\n",
       " 'prf08_variance_explained',\n",
       " 'prf09_eccentricity',\n",
       " 'prf09_polar_angle',\n",
       " 'prf09_radius',\n",
       " 'prf09_variance_explained',\n",
       " 'prf10_eccentricity',\n",
       " 'prf10_polar_angle',\n",
       " 'prf10_radius',\n",
       " 'prf10_variance_explained',\n",
       " 'prf11_eccentricity',\n",
       " 'prf11_polar_angle',\n",
       " 'prf11_radius',\n",
       " 'prf11_variance_explained',\n",
       " 'prf12_eccentricity',\n",
       " 'prf12_polar_angle',\n",
       " 'prf12_radius',\n",
       " 'prf12_variance_explained',\n",
       " 'prf13_eccentricity',\n",
       " 'prf13_polar_angle',\n",
       " 'prf13_radius',\n",
       " 'prf13_variance_explained',\n",
       " 'prf14_eccentricity',\n",
       " 'prf14_polar_angle',\n",
       " 'prf14_radius',\n",
       " 'prf14_variance_explained',\n",
       " 'prf15_eccentricity',\n",
       " 'prf15_polar_angle',\n",
       " 'prf15_radius',\n",
       " 'prf15_variance_explained',\n",
       " 'prf16_eccentricity',\n",
       " 'prf16_polar_angle',\n",
       " 'prf16_radius',\n",
       " 'prf16_variance_explained',\n",
       " 'prf17_eccentricity',\n",
       " 'prf17_polar_angle',\n",
       " 'prf17_radius',\n",
       " 'prf17_variance_explained',\n",
       " 'prf18_eccentricity',\n",
       " 'prf18_polar_angle',\n",
       " 'prf18_radius',\n",
       " 'prf18_variance_explained',\n",
       " 'prf19_eccentricity',\n",
       " 'prf19_polar_angle',\n",
       " 'prf19_radius',\n",
       " 'prf19_variance_explained',\n",
       " 'prf20_eccentricity',\n",
       " 'prf20_polar_angle',\n",
       " 'prf20_radius',\n",
       " 'prf20_variance_explained',\n",
       " 'prf21_eccentricity',\n",
       " 'prf21_polar_angle',\n",
       " 'prf21_radius',\n",
       " 'prf21_variance_explained',\n",
       " 'prf_eccentricity',\n",
       " 'prf_polar_angle',\n",
       " 'prf_radius',\n",
       " 'prf_variance_explained',\n",
       " 'prior-prf_eccentricity',\n",
       " 'prior-prf_polar_angle',\n",
       " 'prior-prf_radius',\n",
       " 'prior-prf_visual_area',\n",
       " 'surface_area',\n",
       " 'thickness',\n",
       " 'white_curvature',\n",
       " 'white_surface_area']"
      ]
     },
     "execution_count": 39,
     "metadata": {},
     "output_type": "execute_result"
    }
   ],
   "source": [
    "sorted(sub.lh.properties.keys())"
   ]
  },
  {
   "cell_type": "markdown",
   "metadata": {},
   "source": [
    "If you are using the `'S1202'` subject from the Benson & Winawer (2018) dataset, there should be a rather large number of properties here (the number may be smaller depending on what FreeSurfer subject you used for this tutorial). In the case of `'S1202'`, most of these properties are from the fMRI experiments, which we will ignore. But we'll take a closer look at a few more common properties.\n",
    "\n",
    "In general, the properties attached to a FreeSurfer subject's `Cortex` object can be found in the subjects `surf` and `label` directories. Properties that end in `_label` are typically boolean maps where `True` indicates that a vertex is part of a region of interest (for example the `'V1_label'` property indicates which vertices are in V1, according to FreeSurfer's anatomical alignment); similarly, properties that end in `_weight` are usually unrounded versions of the matching `_label` property. For example, if one rounds `'V1_weight'` to either 1 or 0 at each vertex, one should get a vector of boolean values that is identical to the `'V1_label'` property.\n",
    "\n",
    "Other properties such as `'curvature'` and `'thickness'` give specific values such as the gray-matter thickness in mm (in the case of `'thickness'`)."
   ]
  },
  {
   "cell_type": "code",
   "execution_count": 40,
   "metadata": {},
   "outputs": [
    {
     "data": {
      "text/plain": [
       "(array([-0.23164146, -0.24056074, -0.22313492, ..., -0.09136165,\n",
       "        -0.7907159 , -0.75389445], dtype=float32),\n",
       " array([-0.23164146, -0.24056074, -0.22313492, ..., -0.09136165,\n",
       "        -0.7907159 , -0.75389445], dtype=float32))"
      ]
     },
     "execution_count": 40,
     "metadata": {},
     "output_type": "execute_result"
    }
   ],
   "source": [
    "# We can extract a property with the prop method or by directly pulling\n",
    "# it from the properties dictionary.\n",
    "(sub.lh.prop('curvature'),\n",
    " sub.lh.properties['curvature'])"
   ]
  },
  {
   "cell_type": "markdown",
   "metadata": {},
   "source": [
    "Properties are typically vectors with one value per vertex. Any property attached to a given surface or cortex should always have the same number of rows as there are vertices in the associated object."
   ]
  },
  {
   "cell_type": "code",
   "execution_count": 42,
   "metadata": {},
   "outputs": [
    {
     "data": {
      "text/plain": [
       "True"
      ]
     },
     "execution_count": 42,
     "metadata": {},
     "output_type": "execute_result"
    }
   ],
   "source": [
    "len(surf.prop('curvature')) == surf.vertex_count"
   ]
  },
  {
   "cell_type": "markdown",
   "metadata": {},
   "source": [
    "If we want to see a property visualized on the cortical surface, we can plot the cortical surface using that property as the color. For more information on plotting, see the plotting tutorial."
   ]
  },
  {
   "cell_type": "code",
   "execution_count": 44,
   "metadata": {},
   "outputs": [
    {
     "data": {
      "application/vnd.jupyter.widget-view+json": {
       "model_id": "23218d8f584b40e8aa8b3ec8c5d15c6f",
       "version_major": 2,
       "version_minor": 0
      },
      "text/plain": [
       "Figure(camera=PerspectiveCamera(fov=0.644570721372708, position=(0.0, -100.0, 0.0), projectionMatrix=(1.0, 0.0…"
      ]
     },
     "metadata": {},
     "output_type": "display_data"
    }
   ],
   "source": [
    "# We'll plot the thickness property, with a minimum value\n",
    "# (for the colormap) of 2 mm and a max of 6 mm.\n",
    "ny.cortex_plot(surf, color='thickness', cmap='hot', vmin=2, vmax=6)"
   ]
  }
 ],
 "metadata": {
  "kernelspec": {
   "display_name": "Noah's Python Environment",
   "language": "python",
   "name": "python-nben"
  },
  "language_info": {
   "codemirror_mode": {
    "name": "ipython",
    "version": 3
   },
   "file_extension": ".py",
   "mimetype": "text/x-python",
   "name": "python",
   "nbconvert_exporter": "python",
   "pygments_lexer": "ipython3",
   "version": "3.8.2"
  }
 },
 "nbformat": 4,
 "nbformat_minor": 4
}
